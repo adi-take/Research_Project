{
  "nbformat": 4,
  "nbformat_minor": 0,
  "metadata": {
    "colab": {
      "provenance": []
    },
    "kernelspec": {
      "name": "python3",
      "display_name": "Python 3"
    },
    "language_info": {
      "name": "python"
    }
  },
  "cells": [
    {
      "cell_type": "markdown",
      "source": [
        "## **This is first part where we create our own custom indian vehicle dataset via using python library *icrawler*. We are using it because their is no Indian vehicle dataset on internet or on kaggle, if it is then it has very poor accuracy and dataset is full of noise. And obviously it's free and yes it's not an API.**"
      ],
      "metadata": {
        "id": "fSrJPDl8U859"
      }
    },
    {
      "cell_type": "markdown",
      "source": [
        "**#################################################################################################**"
      ],
      "metadata": {
        "id": "Q1gNYgvmikHD"
      }
    },
    {
      "cell_type": "code",
      "source": [
        "!pip install icrawler"
      ],
      "metadata": {
        "colab": {
          "base_uri": "https://localhost:8080/"
        },
        "id": "aaKVmVVzinCJ",
        "outputId": "585e3503-206b-4183-8d7c-470e5b26e213"
      },
      "execution_count": null,
      "outputs": [
        {
          "output_type": "stream",
          "name": "stdout",
          "text": [
            "Collecting icrawler\n",
            "  Downloading icrawler-0.6.10-py3-none-any.whl.metadata (6.2 kB)\n",
            "Requirement already satisfied: beautifulsoup4 in /usr/local/lib/python3.11/dist-packages (from icrawler) (4.13.4)\n",
            "Collecting bs4 (from icrawler)\n",
            "  Downloading bs4-0.0.2-py2.py3-none-any.whl.metadata (411 bytes)\n",
            "Requirement already satisfied: lxml in /usr/local/lib/python3.11/dist-packages (from icrawler) (5.4.0)\n",
            "Requirement already satisfied: pillow in /usr/local/lib/python3.11/dist-packages (from icrawler) (11.2.1)\n",
            "Requirement already satisfied: pyyaml in /usr/local/lib/python3.11/dist-packages (from icrawler) (6.0.2)\n",
            "Requirement already satisfied: requests in /usr/local/lib/python3.11/dist-packages (from icrawler) (2.32.3)\n",
            "Requirement already satisfied: six in /usr/local/lib/python3.11/dist-packages (from icrawler) (1.17.0)\n",
            "Requirement already satisfied: soupsieve>1.2 in /usr/local/lib/python3.11/dist-packages (from beautifulsoup4->icrawler) (2.7)\n",
            "Requirement already satisfied: typing-extensions>=4.0.0 in /usr/local/lib/python3.11/dist-packages (from beautifulsoup4->icrawler) (4.13.2)\n",
            "Requirement already satisfied: charset-normalizer<4,>=2 in /usr/local/lib/python3.11/dist-packages (from requests->icrawler) (3.4.1)\n",
            "Requirement already satisfied: idna<4,>=2.5 in /usr/local/lib/python3.11/dist-packages (from requests->icrawler) (3.10)\n",
            "Requirement already satisfied: urllib3<3,>=1.21.1 in /usr/local/lib/python3.11/dist-packages (from requests->icrawler) (2.4.0)\n",
            "Requirement already satisfied: certifi>=2017.4.17 in /usr/local/lib/python3.11/dist-packages (from requests->icrawler) (2025.4.26)\n",
            "Downloading icrawler-0.6.10-py3-none-any.whl (36 kB)\n",
            "Downloading bs4-0.0.2-py2.py3-none-any.whl (1.2 kB)\n",
            "Installing collected packages: bs4, icrawler\n",
            "Successfully installed bs4-0.0.2 icrawler-0.6.10\n"
          ]
        }
      ]
    },
    {
      "cell_type": "code",
      "source": [
        "# [1]. This section is used to create custom indian vehicle dataset.\n",
        "#      And don't be fooled by defining exact number of images per category\n",
        "#      because it will always give you lesser than your demand.\n",
        "\n",
        "from icrawler.builtin import BingImageCrawler\n",
        "import os\n",
        "\n",
        "# Define categories and number of images per category\n",
        "categories = {\n",
        "    \"indian_bus\": 600,\n",
        "    \"indian_mini_truck\": 600,\n",
        "    \"tractor\": 600,\n",
        "    \"auto_rickshaw\": 600,\n",
        "    \"indian_truck\": 600\n",
        "}\n",
        "\n",
        "# Base directory for dataset\n",
        "base_dir = \"I_V_dataset\"\n",
        "\n",
        "# Ensure base directory exists\n",
        "if not os.path.exists(base_dir):\n",
        "    os.makedirs(base_dir)\n",
        "\n",
        "# Download images for each category\n",
        "for category, num_images in categories.items():\n",
        "    print(f\"Downloading {num_images} images for category: {category}\")\n",
        "    category_dir = os.path.join(base_dir, category)\n",
        "\n",
        "    crawler = BingImageCrawler(storage={'root_dir': category_dir})\n",
        "    crawler.crawl(keyword=category.replace('_', ' '), max_num=num_images, file_idx_offset=0)"
      ],
      "metadata": {
        "colab": {
          "base_uri": "https://localhost:8080/"
        },
        "id": "-nlEbgz-irZG",
        "outputId": "30763c55-9384-4381-ec50-272676a5b1ec"
      },
      "execution_count": null,
      "outputs": [
        {
          "output_type": "stream",
          "name": "stdout",
          "text": [
            "Downloading 600 images for category: indian_bus\n"
          ]
        },
        {
          "output_type": "stream",
          "name": "stderr",
          "text": [
            "ERROR:downloader:Response status code 403, file https://www.apnnews.com/wp-content/uploads/2021/08/BS-VI-Bus-Single-Axcel_Single-Bus-scaled.jpg\n",
            "ERROR:downloader:Response status code 400, file https://media.istockphoto.com/id/468862796/photo/indian-bus.jpg\n",
            "ERROR:downloader:Response status code 400, file https://media.istockphoto.com/id/1134704572/photo/traditional-mumbai-double-decker-bus-still-remaining-after-the-english-colonization.jpg\n",
            "ERROR:downloader:Response status code 400, file https://media.istockphoto.com/id/467208252/photo/indian-bus.jpg\n",
            "ERROR:downloader:Response status code 400, file https://media.istockphoto.com/id/468862338/photo/indian-bus.jpg\n",
            "ERROR:downloader:Response status code 400, file https://media.istockphoto.com/id/1270915539/photo/state-tranport-bus-on-highway.jpg\n",
            "ERROR:downloader:Response status code 400, file https://media.istockphoto.com/id/184096543/photo/indian-bus.jpg\n",
            "ERROR:downloader:Response status code 403, file https://theicct.org/wp-content/uploads/2022/08/IMG_0908_Santosh.jpg\n",
            "ERROR:downloader:Response status code 404, file https://i.ytimg.com/vi/rDyrprWHAHI/maxresdefault.jpg\n",
            "ERROR:downloader:Response status code 400, file https://media.istockphoto.com/id/1256073458/photo/life-moves-on.jpg\n",
            "ERROR:downloader:Exception caught when downloading file https://www.suensontaylor.com/wp-content/uploads/2010/07/nawalgarth-rajasthan-india-suenson-taylor-016.jpg, error: HTTPSConnectionPool(host='www.suensontaylor.com', port=443): Max retries exceeded with url: /wp-content/uploads/2010/07/nawalgarth-rajasthan-india-suenson-taylor-016.jpg (Caused by SSLError(SSLCertVerificationError(1, \"[SSL: CERTIFICATE_VERIFY_FAILED] certificate verify failed: Hostname mismatch, certificate is not valid for 'www.suensontaylor.com'. (_ssl.c:1016)\"))), remaining retry times: 2\n",
            "ERROR:downloader:Exception caught when downloading file https://www.suensontaylor.com/wp-content/uploads/2010/07/nawalgarth-rajasthan-india-suenson-taylor-016.jpg, error: HTTPSConnectionPool(host='www.suensontaylor.com', port=443): Max retries exceeded with url: /wp-content/uploads/2010/07/nawalgarth-rajasthan-india-suenson-taylor-016.jpg (Caused by SSLError(SSLCertVerificationError(1, \"[SSL: CERTIFICATE_VERIFY_FAILED] certificate verify failed: Hostname mismatch, certificate is not valid for 'www.suensontaylor.com'. (_ssl.c:1016)\"))), remaining retry times: 1\n",
            "ERROR:downloader:Exception caught when downloading file https://www.suensontaylor.com/wp-content/uploads/2010/07/nawalgarth-rajasthan-india-suenson-taylor-016.jpg, error: HTTPSConnectionPool(host='www.suensontaylor.com', port=443): Max retries exceeded with url: /wp-content/uploads/2010/07/nawalgarth-rajasthan-india-suenson-taylor-016.jpg (Caused by SSLError(SSLCertVerificationError(1, \"[SSL: CERTIFICATE_VERIFY_FAILED] certificate verify failed: Hostname mismatch, certificate is not valid for 'www.suensontaylor.com'. (_ssl.c:1016)\"))), remaining retry times: 0\n",
            "ERROR:downloader:Response status code 403, file https://adventuresofagoodman.com/wp-content/uploads/2017/07/indian-bus-crowd-transportation-Greg_Goodman-AdventuresofaGoodMan-1.jpg\n",
            "ERROR:downloader:Exception caught when downloading file https://previews.agefotostock.com/previewimage/medibigoff/50ad2d99ab7ae12970d936ee5d4558d6/zd8-1946463.jpg, error: HTTPSConnectionPool(host='previews.agefotostock.com', port=443): Max retries exceeded with url: /previewimage/medibigoff/50ad2d99ab7ae12970d936ee5d4558d6/zd8-1946463.jpg (Caused by SSLError(SSLError(1, '[SSL: TLSV1_UNRECOGNIZED_NAME] tlsv1 unrecognized name (_ssl.c:1016)'))), remaining retry times: 2\n",
            "ERROR:downloader:Exception caught when downloading file https://previews.agefotostock.com/previewimage/medibigoff/50ad2d99ab7ae12970d936ee5d4558d6/zd8-1946463.jpg, error: HTTPSConnectionPool(host='previews.agefotostock.com', port=443): Max retries exceeded with url: /previewimage/medibigoff/50ad2d99ab7ae12970d936ee5d4558d6/zd8-1946463.jpg (Caused by SSLError(SSLError(1, '[SSL: TLSV1_UNRECOGNIZED_NAME] tlsv1 unrecognized name (_ssl.c:1016)'))), remaining retry times: 1\n",
            "ERROR:downloader:Exception caught when downloading file https://previews.agefotostock.com/previewimage/medibigoff/50ad2d99ab7ae12970d936ee5d4558d6/zd8-1946463.jpg, error: HTTPSConnectionPool(host='previews.agefotostock.com', port=443): Max retries exceeded with url: /previewimage/medibigoff/50ad2d99ab7ae12970d936ee5d4558d6/zd8-1946463.jpg (Caused by SSLError(SSLError(1, '[SSL: TLSV1_UNRECOGNIZED_NAME] tlsv1 unrecognized name (_ssl.c:1016)'))), remaining retry times: 0\n",
            "ERROR:downloader:Response status code 400, file https://media.istockphoto.com/id/881545572/photo/traffic-on-highway.jpg\n",
            "ERROR:downloader:Response status code 403, file https://static.vecteezy.com/system/resources/previews/010/873/905/original/indian-bus-icon-illustration-for-bus-related-company-logo-free-vector.jpg\n"
          ]
        },
        {
          "output_type": "stream",
          "name": "stdout",
          "text": [
            "Downloading 600 images for category: indian_mini_truck\n"
          ]
        },
        {
          "output_type": "stream",
          "name": "stderr",
          "text": [
            "ERROR:downloader:Response status code 400, file https://www.cmv360.com/_next/image?url=https:%2F%2Fd1odgbsvvxl2qd.cloudfront.net%2Fsmall_Eicher_pro_2049_Brown_9a1ace0814.jpg\n",
            "ERROR:downloader:Response status code 400, file https://www.cmv360.com/_next/image?url=https:%2F%2Fcmv360.s3.ap-southeast-1.amazonaws.com%2F2_Gallery_Big_3b7c1eac71.jpg\n",
            "ERROR:downloader:Response status code 502, file https://secureservercdn.net/198.71.233.37/opj.a75.myftpupload.com/wp-content/uploads/2018/04/Maruti-Suzuki-Super-Carry-CNG-Specs-Price-Mileage-features-Photos-768x424.jpg\n",
            "ERROR:downloader:Response status code 400, file https://media.gettyimages.com/id/90552520/photo/tata-motors-launch-tata-ace-indias-first-mini-truck-in-new-delhi-india.jpg\n",
            "ERROR:downloader:Response status code 400, file https://media.gettyimages.com/id/90511467/photo/tata-motors-launch-tata-ace-indias-first-mini-truck-in-new-delhi-india.jpg\n",
            "ERROR:downloader:Response status code 400, file https://media.gettyimages.com/id/90552516/photo/tata-motors-launch-tata-ace-indias-first-mini-truck-in-new-delhi-india.jpg\n",
            "ERROR:downloader:Response status code 400, file https://media.gettyimages.com/id/90552512/es/foto/tata-motors-launch-tata-ace-indias-first-mini-truck-in-new-delhi-india.jpg\n",
            "ERROR:downloader:Response status code 400, file https://media.gettyimages.com/id/90511467/photo/india-tata-motors-launch-tata-ace-indias-first-mini-truck-in-new-delhi-india.jpg\n",
            "ERROR:downloader:Exception caught when downloading file https://www.fixerbolt.com/wp-content/uploads/2023/02/Mini-Trucks-Price-Tata-Mahindra-Ashok-Leyland-Maruti-Suzuki-Force.-1024x576.jpg, error: HTTPSConnectionPool(host='www.fixerbolt.com', port=443): Max retries exceeded with url: /wp-content/uploads/2023/02/Mini-Trucks-Price-Tata-Mahindra-Ashok-Leyland-Maruti-Suzuki-Force.-1024x576.jpg (Caused by SSLError(SSLError(1, '[SSL: TLSV1_ALERT_INTERNAL_ERROR] tlsv1 alert internal error (_ssl.c:1016)'))), remaining retry times: 2\n",
            "ERROR:downloader:Exception caught when downloading file https://www.fixerbolt.com/wp-content/uploads/2023/02/Mini-Trucks-Price-Tata-Mahindra-Ashok-Leyland-Maruti-Suzuki-Force.-1024x576.jpg, error: HTTPSConnectionPool(host='www.fixerbolt.com', port=443): Max retries exceeded with url: /wp-content/uploads/2023/02/Mini-Trucks-Price-Tata-Mahindra-Ashok-Leyland-Maruti-Suzuki-Force.-1024x576.jpg (Caused by SSLError(SSLError(1, '[SSL: TLSV1_ALERT_INTERNAL_ERROR] tlsv1 alert internal error (_ssl.c:1016)'))), remaining retry times: 1\n",
            "ERROR:downloader:Exception caught when downloading file https://www.fixerbolt.com/wp-content/uploads/2023/02/Mini-Trucks-Price-Tata-Mahindra-Ashok-Leyland-Maruti-Suzuki-Force.-1024x576.jpg, error: HTTPSConnectionPool(host='www.fixerbolt.com', port=443): Max retries exceeded with url: /wp-content/uploads/2023/02/Mini-Trucks-Price-Tata-Mahindra-Ashok-Leyland-Maruti-Suzuki-Force.-1024x576.jpg (Caused by SSLError(SSLError(1, '[SSL: TLSV1_ALERT_INTERNAL_ERROR] tlsv1 alert internal error (_ssl.c:1016)'))), remaining retry times: 0\n",
            "ERROR:downloader:Response status code 400, file https://media.gettyimages.com/id/90511463/photo/india-tata-motors-launch-tata-ace-indias-first-mini-truck-in-new-delhi-india.jpg\n",
            "ERROR:downloader:Response status code 403, file https://preview.redd.it/1g6v51wp5k0z.jpg\n",
            "ERROR:downloader:Response status code 404, file https://www.cmv360.com/trucks/_next/image?url=https:%2F%2Fd1odgbsvvxl2qd.cloudfront.net%2Fsmall_Tata_Lpt_c3c3a4588a.jpg\n",
            "ERROR:downloader:Exception caught when downloading file https://www.fixerbolt.com/wp-content/uploads/2023/02/Mini-Trucks-Price-Tata-Mahindra-Ashok-Leyland-Maruti-Suzuki-Force..jpg, error: HTTPSConnectionPool(host='www.fixerbolt.com', port=443): Max retries exceeded with url: /wp-content/uploads/2023/02/Mini-Trucks-Price-Tata-Mahindra-Ashok-Leyland-Maruti-Suzuki-Force..jpg (Caused by SSLError(SSLError(1, '[SSL: TLSV1_ALERT_INTERNAL_ERROR] tlsv1 alert internal error (_ssl.c:1016)'))), remaining retry times: 2\n",
            "ERROR:downloader:Exception caught when downloading file https://www.fixerbolt.com/wp-content/uploads/2023/02/Mini-Trucks-Price-Tata-Mahindra-Ashok-Leyland-Maruti-Suzuki-Force..jpg, error: HTTPSConnectionPool(host='www.fixerbolt.com', port=443): Max retries exceeded with url: /wp-content/uploads/2023/02/Mini-Trucks-Price-Tata-Mahindra-Ashok-Leyland-Maruti-Suzuki-Force..jpg (Caused by SSLError(SSLError(1, '[SSL: TLSV1_ALERT_INTERNAL_ERROR] tlsv1 alert internal error (_ssl.c:1016)'))), remaining retry times: 1\n",
            "ERROR:downloader:Exception caught when downloading file https://www.fixerbolt.com/wp-content/uploads/2023/02/Mini-Trucks-Price-Tata-Mahindra-Ashok-Leyland-Maruti-Suzuki-Force..jpg, error: HTTPSConnectionPool(host='www.fixerbolt.com', port=443): Max retries exceeded with url: /wp-content/uploads/2023/02/Mini-Trucks-Price-Tata-Mahindra-Ashok-Leyland-Maruti-Suzuki-Force..jpg (Caused by SSLError(SSLError(1, '[SSL: TLSV1_ALERT_INTERNAL_ERROR] tlsv1 alert internal error (_ssl.c:1016)'))), remaining retry times: 0\n",
            "ERROR:downloader:Response status code 400, file https://www.cmv360.com/_next/image?url=https:%2F%2Fd1odgbsvvxl2qd.cloudfront.net%2Fsmall_Super_Carry_Baner_web_1366x_4695de4f54.jpg\n",
            "ERROR:downloader:Response status code 400, file https://media.gettyimages.com/id/98300963/photo/indian-workers-assemble-a-maxximo-mini-truck-at-the-newly-inaugurated-mahindra-and-mahindra.jpg\n",
            "ERROR:downloader:Response status code 400, file https://media.gettyimages.com/id/1212153992/photo/new-delhi-india-a-mini-truck-transporting-vegetables-at-okhla-mandi-on-may-7-2020-in-new.jpg\n",
            "ERROR:downloader:Response status code 400, file https://media.gettyimages.com/id/910237342/photo/gurgaon-india-after-bhondsi-incident-a-mini-truck-was-also-burnt-near-hero-honda-chowk-on.jpg\n"
          ]
        },
        {
          "output_type": "stream",
          "name": "stdout",
          "text": [
            "Downloading 600 images for category: tractor\n"
          ]
        },
        {
          "output_type": "stream",
          "name": "stderr",
          "text": [
            "ERROR:downloader:Response status code 403, file https://cmkt-image-prd.freetls.fastly.net/0.1.0/ps/6474763/1820/1213/m1/fpnw/wm1/nu6gdluqih6ql7i2i7k0fdeg64g5wqzauhe1pwybuvtef6u3d9rfjpgq5xj9oc6w-.jpg\n",
            "ERROR:downloader:Response status code 403, file https://studyfinds.org/wp-content/uploads/2023/01/This-tractor-runs-completely-on-cow-manure-scaled.jpg\n",
            "ERROR:downloader:Exception caught when downloading file https://blog.cadeco.com.mx/wp-content/uploads/2022/09/tractor-agricola.jpg, error: HTTPSConnectionPool(host='blog.cadeco.com.mx', port=443): Max retries exceeded with url: /wp-content/uploads/2022/09/tractor-agricola.jpg (Caused by SSLError(SSLCertVerificationError(1, '[SSL: CERTIFICATE_VERIFY_FAILED] certificate verify failed: unable to get local issuer certificate (_ssl.c:1016)'))), remaining retry times: 2\n",
            "ERROR:downloader:Exception caught when downloading file https://blog.cadeco.com.mx/wp-content/uploads/2022/09/tractor-agricola.jpg, error: HTTPSConnectionPool(host='blog.cadeco.com.mx', port=443): Max retries exceeded with url: /wp-content/uploads/2022/09/tractor-agricola.jpg (Caused by SSLError(SSLCertVerificationError(1, '[SSL: CERTIFICATE_VERIFY_FAILED] certificate verify failed: unable to get local issuer certificate (_ssl.c:1016)'))), remaining retry times: 1\n",
            "ERROR:downloader:Exception caught when downloading file https://blog.cadeco.com.mx/wp-content/uploads/2022/09/tractor-agricola.jpg, error: HTTPSConnectionPool(host='blog.cadeco.com.mx', port=443): Max retries exceeded with url: /wp-content/uploads/2022/09/tractor-agricola.jpg (Caused by SSLError(SSLCertVerificationError(1, '[SSL: CERTIFICATE_VERIFY_FAILED] certificate verify failed: unable to get local issuer certificate (_ssl.c:1016)'))), remaining retry times: 0\n",
            "ERROR:downloader:Response status code 404, file https://static.wikia.nocookie.net/agricultura/images/4/44/Lamboghini_traktor.jpg\n",
            "ERROR:downloader:Response status code 403, file https://static.vecteezy.com/system/resources/previews/004/115/544/original/tractor-isolated-object-for-farm-with-modern-flat-style-free-vector.jpg\n",
            "ERROR:downloader:Response status code 403, file https://static.vecteezy.com/system/resources/previews/015/400/364/non_2x/tractor-with-trailer-tractor-with-hay-bales-in-cart-agricultural-machinery-farm-machine-side-view-of-modern-tractor-illustration-vector.jpg\n",
            "ERROR:downloader:Response status code 403, file https://missourilife.com/wp-content/uploads/2022/07/ML_WEB_Tractor_1200x800_sceje.jpg\n",
            "ERROR:downloader:Response status code 403, file https://static.vecteezy.com/system/resources/previews/015/413/276/original/tractor-vehicle-farm-machine-side-view-of-modern-tractor-illustration-vector.jpg\n",
            "ERROR:downloader:Response status code 403, file https://resizer.glanacion.com/resizer/v2/el-tractor-desarrollado-por-la-YI4SV33NNJG5LOJGTLTEEJ76T4.jpg\n",
            "ERROR:downloader:Response status code 403, file https://static.vecteezy.com/system/resources/previews/012/758/290/original/tractor-in-cartoon-flat-style-illustration-of-a-heavy-agricultural-machinery-for-plowing-cultivating-the-soil-and-planting-fields-vector.jpg\n",
            "ERROR:downloader:Exception caught when downloading file https://www.ecured.cu/images/b/b8/Tractor11.jpg, error: HTTPSConnectionPool(host='www.ecured.cu', port=443): Max retries exceeded with url: /images/b/b8/Tractor11.jpg (Caused by ConnectTimeoutError(<urllib3.connection.HTTPSConnection object at 0x7cd55e88ce90>, 'Connection to www.ecured.cu timed out. (connect timeout=5)')), remaining retry times: 2\n",
            "ERROR:downloader:Exception caught when downloading file https://www.ecured.cu/images/b/b8/Tractor11.jpg, error: HTTPSConnectionPool(host='www.ecured.cu', port=443): Max retries exceeded with url: /images/b/b8/Tractor11.jpg (Caused by ConnectTimeoutError(<urllib3.connection.HTTPSConnection object at 0x7cd55e2a67d0>, 'Connection to www.ecured.cu timed out. (connect timeout=5)')), remaining retry times: 1\n",
            "ERROR:downloader:Exception caught when downloading file https://www.ecured.cu/images/b/b8/Tractor11.jpg, error: HTTPSConnectionPool(host='www.ecured.cu', port=443): Max retries exceeded with url: /images/b/b8/Tractor11.jpg (Caused by ConnectTimeoutError(<urllib3.connection.HTTPSConnection object at 0x7cd55e83e990>, 'Connection to www.ecured.cu timed out. (connect timeout=5)')), remaining retry times: 0\n",
            "ERROR:downloader:Response status code 403, file https://static.vecteezy.com/system/resources/previews/002/714/148/non_2x/farm-agriculture-red-tractor-illustration-cartoon-flat-tractor-design-modern-farm-tractor-vector.jpg\n",
            "ERROR:downloader:Response status code 403, file https://static.vecteezy.com/system/resources/previews/012/576/705/non_2x/red-cartoon-tractor-isolated-on-white-background-heavy-agricultural-machinery-for-field-work-vector.jpg\n",
            "ERROR:downloader:Response status code 403, file https://static.vecteezy.com/system/resources/previews/005/271/016/original/red-tractor-with-trailer-agriculture-equipment-in-cartoon-style-isolated-on-white-background-country-vehicle-harvest-illustration-vector.jpg\n",
            "ERROR:downloader:Response status code 403, file https://static.vecteezy.com/system/resources/previews/000/424/890/original/tractor-farmer-machine-delivery-inside-farm-vector.jpg\n",
            "ERROR:downloader:Response status code 403, file https://static.vecteezy.com/system/resources/previews/007/528/166/original/tractor-cartoon-colored-clipart-illustration-free-vector.jpg\n",
            "ERROR:downloader:Response status code 403, file https://static.vecteezy.com/system/resources/previews/004/115/544/non_2x/tractor-isolated-object-for-farm-with-modern-flat-style-free-vector.jpg\n",
            "ERROR:downloader:Response status code 403, file https://static.vecteezy.com/system/resources/previews/012/320/668/original/tractor-farm-heavy-agricultural-vehicles-machinery-field-work-harvesting-cartoon-flat-design-transport-side-view-rural-landscape-barn-trees-two-man-farmers-beard-shovel-rake-vector.jpg\n",
            "ERROR:downloader:Response status code 403, file https://static.vecteezy.com/system/resources/previews/000/529/392/original/tractor-vector-eps.jpg\n",
            "ERROR:downloader:Response status code 403, file https://static.vecteezy.com/system/resources/previews/000/492/806/original/yellow-tractor-vector-illustration.jpg\n",
            "ERROR:downloader:Response status code 403, file https://www.creativefabrica.com/wp-content/uploads/2023/06/12/Pink-Farm-Tractor-Watercolor-Tractor-Graphics-71952982-1.jpg\n",
            "ERROR:downloader:Response status code 403, file https://static.vecteezy.com/system/resources/previews/011/225/972/non_2x/red-farm-tractor-with-pumpkin-trailer-isolated-on-white-fall-harvest-season-colorful-illustration-design-card-sticker-poster-banner-flat-cartoon-illustration-vector.jpg\n",
            "ERROR:downloader:Exception caught when downloading file https://cdn.lavoz.com.ar/sites/default/files/styles/width_1072/public/archivo/nota_periodistica/tractores.jpg, error: HTTPSConnectionPool(host='cdn.lavoz.com.ar', port=443): Read timed out. (read timeout=5), remaining retry times: 2\n",
            "ERROR:downloader:Exception caught when downloading file https://cdn.lavoz.com.ar/sites/default/files/styles/width_1072/public/archivo/nota_periodistica/tractores.jpg, error: HTTPSConnectionPool(host='cdn.lavoz.com.ar', port=443): Read timed out. (read timeout=5), remaining retry times: 1\n",
            "ERROR:downloader:Exception caught when downloading file https://cdn.lavoz.com.ar/sites/default/files/styles/width_1072/public/archivo/nota_periodistica/tractores.jpg, error: HTTPSConnectionPool(host='cdn.lavoz.com.ar', port=443): Read timed out. (read timeout=5), remaining retry times: 0\n",
            "ERROR:downloader:Response status code 403, file https://static.vecteezy.com/system/resources/previews/009/796/559/original/tractor-icon-on-white-background-farm-tractor-sign-flat-style-black-tractor-symbol-vector.jpg\n",
            "ERROR:downloader:Response status code 403, file https://static.vecteezy.com/system/resources/previews/004/341/345/non_2x/tractor-driver-flat-character-farm-worker-driving-agricultural-machinery-cartoon-illustration-farming-and-agriculture-industry-harvesting-planting-equipment-machine-isolated-on-white-background-vector.jpg\n",
            "ERROR:downloader:Response status code 403, file https://stingerattachments.com/wp-content/uploads/2023/05/Tractor-Rock-Bucket-1.jpg\n",
            "ERROR:downloader:Response status code 403, file https://static.vecteezy.com/system/resources/previews/020/350/256/original/black-and-white-farmer-driving-tractor-icon-farm-outline-transportation-with-driver-isolated-on-white-background-funny-rural-illustration-or-coloring-page-for-kids-with-cute-boy-vector.jpg\n",
            "ERROR:downloader:Response status code 403, file https://image.invaluable.com/housePhotos/kraft/09/709409/H4371-L267100587.jpg\n",
            "ERROR:downloader:Response status code 521, file https://img.dokumen.tips/doc/image/577cce201a28ab9e788d645f/cap-4-el-tractor-agricola.jpg\n",
            "ERROR:downloader:Response status code 403, file https://www.lanacion.com.ar/resizer/v2/el-tractor-impulsado-con-XCMAVGSP6ZGFBDDANOHY4QIFPU.jpg\n",
            "ERROR:downloader:Response status code 404, file https://i.ytimg.com/vi/zK9g-5JVYzM/maxresdefault.jpg\n",
            "ERROR:downloader:Response status code 404, file https://i.ytimg.com/vi/fn8jMvYF-bo/maxresdefault.jpg\n",
            "ERROR:downloader:Response status code 404, file https://i.ytimg.com/vi/eeNFKBK_f3k/maxres2.jpg\n",
            "ERROR:downloader:Response status code 404, file https://i.ytimg.com/vi/qRMQHHMM2Xk/maxres2.jpg\n",
            "ERROR:downloader:Response status code 404, file https://i.ytimg.com/vi/jHKfuatm_8o/maxres2.jpg\n",
            "ERROR:downloader:Response status code 404, file https://i.ytimg.com/vi/wzBWXxjGMcY/maxres2.jpg\n",
            "ERROR:downloader:Response status code 404, file https://i.ytimg.com/vi/cefxyfoRI-4/maxresdefault.jpg\n"
          ]
        },
        {
          "output_type": "stream",
          "name": "stdout",
          "text": [
            "Downloading 600 images for category: auto_rickshaw\n"
          ]
        },
        {
          "output_type": "stream",
          "name": "stderr",
          "text": [
            "ERROR:downloader:Response status code 403, file https://anthrosource.onlinelibrary.wiley.com/cms/asset/e5b8099c-c38c-4fa4-8eaf-ae8a289d8a3b/ciso12440-fig-0002-m.jpg\n",
            "ERROR:downloader:Response status code 400, file https://wikiwandv2-19431.kxcdn.com/_next/image?url=https://upload.wikimedia.org/wikipedia/commons/thumb/8/84/Indian_Tuk-tuk.jpg\n",
            "ERROR:downloader:Response status code 403, file https://www.eventalways.com/media/serviceimage/large/electric-auto-rickshaw-gi-1175506.jpg\n",
            "ERROR:downloader:Response status code 400, file https://media.istockphoto.com/id/850888754/photo/auto-rickshaw.jpg\n",
            "ERROR:downloader:Response status code 403, file https://images.summitmedia-digital.com/topgear/images/2022/06/17/rickshaw-6-1655456819.jpg\n",
            "ERROR:downloader:Response status code 404, file https://upload.wikimedia.org/wikipedia/commons/thumb/e/ed/Auto_rikshaw_2.jpg\n",
            "ERROR:downloader:Response status code 403, file https://www.tradeford.com/pimages/l/9/389679.jpg\n",
            "ERROR:downloader:Response status code 403, file https://e1.pxfuel.com/desktop-wallpaper/680/705/desktop-wallpaper-india-auto-rickshaw-clip-art-rickshaw.jpg\n",
            "ERROR:downloader:Response status code 400, file https://media.istockphoto.com/id/950577080/photo/the-autorickshaw-isolated.jpg\n",
            "ERROR:downloader:Response status code 404, file https://upload.wikimedia.org/wikipedia/commons/thumb/c/cb/Cngs_dhaka.jpg\n",
            "ERROR:downloader:Response status code 403, file https://www.climatefinancelab.org/wp-content/uploads/2018/01/Auto-rickshaws-1.jpg\n",
            "ERROR:downloader:Response status code 404, file https://i.ytimg.com/vi/waGIq34c-SY/maxresdefault.jpg\n",
            "ERROR:downloader:Response status code 404, file https://i.ytimg.com/vi/RXCz5CiplAc/maxresdefault.jpg\n",
            "ERROR:downloader:Response status code 403, file https://static.vecteezy.com/system/resources/previews/000/633/857/original/rickshaw-vector-illustration.jpg\n",
            "ERROR:downloader:Response status code 404, file https://i.ytimg.com/vi/MGKoZ3vSoOY/maxresdefault.jpg\n",
            "ERROR:downloader:Response status code 404, file https://upload.wikimedia.org/wikipedia/commons/thumb/2/26/Bajaj_in_Essex_TM0724_121_-_geograph.org.uk_-_123127.jpg\n",
            "ERROR:downloader:Response status code 400, file https://media.istockphoto.com/id/174837237/photo/auto-rickshaw.jpg\n"
          ]
        },
        {
          "output_type": "stream",
          "name": "stdout",
          "text": [
            "Downloading 600 images for category: indian_truck\n"
          ]
        },
        {
          "output_type": "stream",
          "name": "stderr",
          "text": [
            "ERROR:downloader:Exception caught when downloading file https://img.washingtonpost.com/news/in-sight/wp-content/uploads/sites/35/2014/11/121013_India_677.jpg, error: HTTPSConnectionPool(host='img.washingtonpost.com', port=443): Read timed out. (read timeout=5), remaining retry times: 2\n",
            "ERROR:downloader:Exception caught when downloading file https://img.washingtonpost.com/news/in-sight/wp-content/uploads/sites/35/2014/11/121013_India_677.jpg, error: HTTPSConnectionPool(host='img.washingtonpost.com', port=443): Read timed out. (read timeout=5), remaining retry times: 1\n",
            "ERROR:downloader:Exception caught when downloading file https://img.washingtonpost.com/news/in-sight/wp-content/uploads/sites/35/2014/11/121013_India_677.jpg, error: HTTPSConnectionPool(host='img.washingtonpost.com', port=443): Read timed out. (read timeout=5), remaining retry times: 0\n",
            "ERROR:downloader:Response status code 403, file https://preview.redd.it/indian-truck-drivers-are-famous-for-decorating-their-trucks-v0-3rbax0zdt00a1.jpg\n",
            "ERROR:downloader:Exception caught when downloading file https://www.washingtonpost.com/resizer/ascRrlku3aDpotKIdyn8Bx02_DM=/1440x0/smart/arc-anglerfish-washpost-prod-washpost.s3.amazonaws.com/public/5UNEY4KB2Q2QNFTDOCND4TDAEY.jpg, error: HTTPSConnectionPool(host='www.washingtonpost.com', port=443): Read timed out. (read timeout=5), remaining retry times: 2\n",
            "ERROR:downloader:Exception caught when downloading file https://www.washingtonpost.com/resizer/ascRrlku3aDpotKIdyn8Bx02_DM=/1440x0/smart/arc-anglerfish-washpost-prod-washpost.s3.amazonaws.com/public/5UNEY4KB2Q2QNFTDOCND4TDAEY.jpg, error: HTTPSConnectionPool(host='www.washingtonpost.com', port=443): Read timed out. (read timeout=5), remaining retry times: 1\n",
            "ERROR:downloader:Exception caught when downloading file https://www.washingtonpost.com/resizer/ascRrlku3aDpotKIdyn8Bx02_DM=/1440x0/smart/arc-anglerfish-washpost-prod-washpost.s3.amazonaws.com/public/5UNEY4KB2Q2QNFTDOCND4TDAEY.jpg, error: HTTPSConnectionPool(host='www.washingtonpost.com', port=443): Read timed out. (read timeout=5), remaining retry times: 0\n",
            "ERROR:downloader:Response status code 400, file https://media.istockphoto.com/id/635899158/photo/line-of-parked-indian-trucks.jpg\n",
            "ERROR:downloader:Response status code 400, file https://media.istockphoto.com/id/506552716/photo/trucks-on-the-move-through-rajasthan-india.jpg\n",
            "ERROR:downloader:Response status code 403, file http://phbooks.s3.amazonaws.com/site/wp-content/uploads/9781576877067_in09.jpg\n",
            "ERROR:downloader:Response status code 403, file https://e1.pxfuel.com/desktop-wallpaper/150/808/desktop-wallpaper-local-truck-india-by-anishagrawal634209-indian-truck.jpg\n",
            "ERROR:downloader:Response status code 403, file https://static.vecteezy.com/system/resources/previews/000/633/809/original/indian-truck-vector-art.jpg\n",
            "ERROR:downloader:Response status code 403, file https://theicct.org/wp-content/uploads/2022/05/Pixabay-India-trucks_16x9_credit.jpg\n",
            "ERROR:downloader:Response status code 403, file https://static.vecteezy.com/system/resources/previews/000/633/754/original/indian-old-truck-vector.jpg\n",
            "ERROR:downloader:Response status code 404, file https://i.ytimg.com/vi/RLBxi9JHzNo/maxresdefault.jpg\n",
            "ERROR:downloader:Response status code 404, file https://i.ytimg.com/vi/anZmaXdiZmA/maxres2.jpg\n",
            "ERROR:downloader:Response status code 404, file https://i.ytimg.com/vi/zh0gPMwwuCA/maxres2.jpg\n"
          ]
        }
      ]
    },
    {
      "cell_type": "code",
      "source": [
        "# [2]. This section is used to see how many number of images are in per category.\n",
        "\n",
        "import os\n",
        "\n",
        "# Base directory containing subfolders of each category\n",
        "base_dir = \"I_V_dataset\"\n",
        "\n",
        "# List all subdirectories (categories)\n",
        "categories = [folder for folder in os.listdir(base_dir) if os.path.isdir(os.path.join(base_dir, folder))]\n",
        "\n",
        "# Count files in each category\n",
        "for category in categories:\n",
        "    category_path = os.path.join(base_dir, category)\n",
        "    image_files = [f for f in os.listdir(category_path) if os.path.isfile(os.path.join(category_path, f))]\n",
        "    print(f\"{category}: {len(image_files)} images\")"
      ],
      "metadata": {
        "colab": {
          "base_uri": "https://localhost:8080/"
        },
        "id": "GIE_FNzppaOU",
        "outputId": "d2dc619f-b79d-4bd2-97f7-f1dd41398345"
      },
      "execution_count": null,
      "outputs": [
        {
          "output_type": "stream",
          "name": "stdout",
          "text": [
            "tractor: 276 images\n",
            "indian_truck: 253 images\n",
            "auto_rickshaw: 235 images\n",
            "indian_bus: 243 images\n",
            "indian_mini_truck: 226 images\n"
          ]
        }
      ]
    },
    {
      "cell_type": "code",
      "source": [
        "# [3]. This section is used to convert the custom indian vehicle dataset into zip file to have easy access in second part.\n",
        "\n",
        "import shutil\n",
        "from google.colab import files\n",
        "\n",
        "shutil.make_archive(\"I_V_dataset\", 'zip', \"I_V_dataset\")\n",
        "files.download(\"I_V_dataset.zip\")"
      ],
      "metadata": {
        "colab": {
          "base_uri": "https://localhost:8080/",
          "height": 34
        },
        "id": "PuDDC1i6p1ok",
        "outputId": "bc8b835f-7c2c-4c58-ec7f-46b9f912e9d0"
      },
      "execution_count": null,
      "outputs": [
        {
          "output_type": "display_data",
          "data": {
            "text/plain": [
              "<IPython.core.display.Javascript object>"
            ],
            "application/javascript": [
              "\n",
              "    async function download(id, filename, size) {\n",
              "      if (!google.colab.kernel.accessAllowed) {\n",
              "        return;\n",
              "      }\n",
              "      const div = document.createElement('div');\n",
              "      const label = document.createElement('label');\n",
              "      label.textContent = `Downloading \"${filename}\": `;\n",
              "      div.appendChild(label);\n",
              "      const progress = document.createElement('progress');\n",
              "      progress.max = size;\n",
              "      div.appendChild(progress);\n",
              "      document.body.appendChild(div);\n",
              "\n",
              "      const buffers = [];\n",
              "      let downloaded = 0;\n",
              "\n",
              "      const channel = await google.colab.kernel.comms.open(id);\n",
              "      // Send a message to notify the kernel that we're ready.\n",
              "      channel.send({})\n",
              "\n",
              "      for await (const message of channel.messages) {\n",
              "        // Send a message to notify the kernel that we're ready.\n",
              "        channel.send({})\n",
              "        if (message.buffers) {\n",
              "          for (const buffer of message.buffers) {\n",
              "            buffers.push(buffer);\n",
              "            downloaded += buffer.byteLength;\n",
              "            progress.value = downloaded;\n",
              "          }\n",
              "        }\n",
              "      }\n",
              "      const blob = new Blob(buffers, {type: 'application/binary'});\n",
              "      const a = document.createElement('a');\n",
              "      a.href = window.URL.createObjectURL(blob);\n",
              "      a.download = filename;\n",
              "      div.appendChild(a);\n",
              "      a.click();\n",
              "      div.remove();\n",
              "    }\n",
              "  "
            ]
          },
          "metadata": {}
        },
        {
          "output_type": "display_data",
          "data": {
            "text/plain": [
              "<IPython.core.display.Javascript object>"
            ],
            "application/javascript": [
              "download(\"download_07c2ee4d-949b-485d-9ab5-2dee4eae4371\", \"I_V_dataset.zip\", 320365666)"
            ]
          },
          "metadata": {}
        }
      ]
    },
    {
      "cell_type": "markdown",
      "source": [
        "**######################################################################**"
      ],
      "metadata": {
        "id": "nL6i6Xy99vto"
      }
    },
    {
      "cell_type": "code",
      "source": [
        "# [4]. This section is fraction of third part for ploting confusion matrix.\n",
        "#      So use it in analysis section of third part.\n",
        "\n",
        "import numpy as np\n",
        "import matplotlib.pyplot as plt\n",
        "import seaborn as sns\n",
        "from sklearn.metrics import confusion_matrix, classification_report\n",
        "from tensorflow.keras.models import load_model\n",
        "from tensorflow.keras.preprocessing.image import ImageDataGenerator\n",
        "\n",
        "# Load your trained CNN model\n",
        "model = load_model('/content/I_V_classifier_final_model.h5')\n",
        "\n",
        "# Define class labels in the same order used during training\n",
        "class_labels = ['Auto Rickshaw', 'Indian Bus', 'Indian Mini Truck', 'Indian Truck', 'Tractor']\n",
        "\n",
        "# Prepare your test data\n",
        "test_datagen = ImageDataGenerator(rescale=1./255)\n",
        "test_generator = test_datagen.flow_from_directory(\n",
        "    '/content/I_V_dataset',\n",
        "    target_size=(224, 224),\n",
        "    batch_size=32,\n",
        "    class_mode='categorical',\n",
        "    shuffle=False  # Important to preserve order for y_true\n",
        ")\n",
        "\n",
        "# Predict on test data\n",
        "y_pred_probs = model.predict(test_generator)\n",
        "y_pred = np.argmax(y_pred_probs, axis=1)\n",
        "y_true = test_generator.classes\n",
        "\n",
        "# Generate the confusion matrix\n",
        "cm = confusion_matrix(y_true, y_pred)\n",
        "\n",
        "# Print classification report\n",
        "print(\"Classification Report:\\n\", classification_report(y_true, y_pred, target_names=class_labels))\n",
        "\n",
        "# Plot the confusion matrix\n",
        "plt.figure(figsize=(8, 6))\n",
        "sns.heatmap(cm, annot=True, fmt='d', cmap='Blues', xticklabels=class_labels, yticklabels=class_labels)\n",
        "plt.xlabel('Predicted')\n",
        "plt.ylabel('Actual')\n",
        "plt.title('Confusion Matrix - Indian Vehicle Classifier')\n",
        "plt.tight_layout()\n",
        "plt.show()"
      ],
      "metadata": {
        "colab": {
          "base_uri": "https://localhost:8080/",
          "height": 939
        },
        "id": "0xUps-LV9z98",
        "outputId": "967196a8-5c2d-44c7-c45f-0917664fc243"
      },
      "execution_count": null,
      "outputs": [
        {
          "output_type": "stream",
          "name": "stderr",
          "text": [
            "WARNING:absl:Compiled the loaded model, but the compiled metrics have yet to be built. `model.compile_metrics` will be empty until you train or evaluate the model.\n"
          ]
        },
        {
          "output_type": "stream",
          "name": "stdout",
          "text": [
            "Found 1215 images belonging to 5 classes.\n"
          ]
        },
        {
          "output_type": "stream",
          "name": "stderr",
          "text": [
            "/usr/local/lib/python3.11/dist-packages/keras/src/trainers/data_adapters/py_dataset_adapter.py:121: UserWarning: Your `PyDataset` class should call `super().__init__(**kwargs)` in its constructor. `**kwargs` can include `workers`, `use_multiprocessing`, `max_queue_size`. Do not pass these arguments to `fit()`, as they will be ignored.\n",
            "  self._warn_if_super_not_called()\n"
          ]
        },
        {
          "output_type": "stream",
          "name": "stdout",
          "text": [
            "\u001b[1m38/38\u001b[0m \u001b[32m━━━━━━━━━━━━━━━━━━━━\u001b[0m\u001b[37m\u001b[0m \u001b[1m66s\u001b[0m 2s/step\n",
            "Classification Report:\n",
            "                    precision    recall  f1-score   support\n",
            "\n",
            "    Auto Rickshaw       0.88      0.86      0.87       237\n",
            "       Indian Bus       0.66      0.92      0.77       257\n",
            "Indian Mini Truck       0.87      0.75      0.81       204\n",
            "     Indian Truck       0.79      0.70      0.74       261\n",
            "          Tractor       0.90      0.78      0.84       256\n",
            "\n",
            "         accuracy                           0.80      1215\n",
            "        macro avg       0.82      0.80      0.80      1215\n",
            "     weighted avg       0.82      0.80      0.80      1215\n",
            "\n"
          ]
        },
        {
          "output_type": "display_data",
          "data": {
            "text/plain": [
              "<Figure size 800x600 with 2 Axes>"
            ],
            "image/png": "[encoded data removed]"
          },
          "metadata": {}
        }
      ]
    }
  ]
}